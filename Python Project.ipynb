{
 "cells": [
  {
   "cell_type": "code",
   "execution_count": 7,
   "metadata": {},
   "outputs": [
    {
     "name": "stdout",
     "output_type": "stream",
     "text": [
      "200\n",
      "515791\n"
     ]
    }
   ],
   "source": [
    "import urllib3\n",
    "\n",
    "link = \"https://www.metacritic.com/browse/movies/score/metascore/year/filtered?year_selected=2021&sort=desc&view=detailed\"\n",
    "\n",
    "# Construct a python request pool\n",
    "http = urllib3.PoolManager()\n",
    "\n",
    "# Initiate a web request\n",
    "r = http.request('GET', link, headers={'User-Agent': 'Mozilla/5.0'})\n",
    "\n",
    "# Convert the result from raw bytes to text\n",
    "datastring = str(r.data, \"utf-8\")\n",
    "\n",
    "# Check whether it succeeded and how much data we got from the site\n",
    "print(r.status)\n",
    "print(len(datastring))\n"
   ]
  },
  {
   "cell_type": "code",
   "execution_count": 8,
   "metadata": {},
   "outputs": [
    {
     "name": "stdout",
     "output_type": "stream",
     "text": [
      "Fetched 516075 bytes and 515791 characters from https://www.metacritic.com/browse/movies/score/metascore/year/filtered?year_selected=2021&sort=desc&view=detailed\n"
     ]
    }
   ],
   "source": [
    "print(f\"Fetched {len(r.data)} bytes and {len(datastring)} characters from {link}\")\n"
   ]
  },
  {
   "cell_type": "code",
   "execution_count": null,
   "metadata": {},
   "outputs": [],
   "source": [
    "import re\n",
    "\n",
    "# Search for titles\n",
    "titles = re.findall(\"class=\\\"title\\\"><h3>(.*)<\\/h3><\\/a>\", datastring)\n",
    "print(titles)"
   ]
  },
  {
   "cell_type": "code",
   "execution_count": null,
   "metadata": {},
   "outputs": [],
   "source": [
    "# Search for release date.\n",
    "releaseDate = re.findall(\"<div class=\\\"clamp-details\\\">\\s+ <span>(.*)<\\/span>\", datastring)\n",
    "print(releaseDate)"
   ]
  },
  {
   "cell_type": "code",
   "execution_count": null,
   "metadata": {},
   "outputs": [],
   "source": [
    "# Search for metascore.\n",
    "score = re.findall(\"<div class=\\\"metascore_w large movie positive\\\">(.*)<\\/div>\\n\\s+<\\/a>\\n\\s+<\\/div>\\n\\s+<div class=\\\"clamp-userscore\\\">\", datastring)\n",
    "print(score)"
   ]
  },
  {
   "cell_type": "code",
   "execution_count": null,
   "metadata": {},
   "outputs": [],
   "source": [
    "# Search for film summary.\n",
    "summary = re.findall(\"<div class=\\\"summary\\\">\\n\\s+(.*)\", datastring)\n",
    "print(summary)"
   ]
  },
  {
   "cell_type": "code",
   "execution_count": null,
   "metadata": {},
   "outputs": [],
   "source": [
    "# Search for thumbnail photo URL.\n",
    "image = re.findall(\"<img src=\\\"(.*)\\\" alt=\\\"(?:.*)\\\" \\/><\\/a>\", datastring)\n",
    "print(image)"
   ]
  }
 ],
 "metadata": {
  "interpreter": {
   "hash": "7ab89adc746c5f628e11cf75ea1b9faeb4649ad752f1d81f5b262cd88334a7d3"
  },
  "kernelspec": {
   "display_name": "Python 3.9.9 64-bit (windows store)",
   "language": "python",
   "name": "python3"
  },
  "language_info": {
   "codemirror_mode": {
    "name": "ipython",
    "version": 3
   },
   "file_extension": ".py",
   "mimetype": "text/x-python",
   "name": "python",
   "nbconvert_exporter": "python",
   "pygments_lexer": "ipython3",
   "version": "3.9.9"
  },
  "orig_nbformat": 4
 },
 "nbformat": 4,
 "nbformat_minor": 2
}
