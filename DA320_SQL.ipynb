{
 "cells": [
  {
   "cell_type": "code",
   "execution_count": 29,
   "metadata": {},
   "outputs": [],
   "source": [
    "import json\n",
    "# Code from lecure to use json file credentials\n",
    "with open('C:\\\\Users\\\\clint\\\\OneDrive\\\\Documents\\\\SQLPass.json') as f:\n",
    "    data = json.load(f)\n",
    "    username = data['username']\n",
    "    password = data['password']\n",
    "\n",
    "import pyodbc\n",
    "\n",
    "# Connecting jupyter to SQL. Code from the lecture.\n",
    "conn = pyodbc.connect('Driver=SQL Server;'\n",
    "                      'Server=DESKTOP-E8CUVPQ\\SQLEXPRESS;'\n",
    "                      'Database=DA320;'\n",
    "                      'UID-' + username + ';'\n",
    "                      'PWD' + password) "
   ]
  },
  {
   "cell_type": "code",
   "execution_count": null,
   "metadata": {},
   "outputs": [],
   "source": [
    "import urllib3\n",
    "\n",
    "link = \"https://www.metacritic.com/browse/movies/score/metascore/year/filtered?year_selected=2021&sort=desc&view=detailed\"\n",
    "\n",
    "# Construct a python request pool\n",
    "urllib3.disable_warnings\n",
    "http = urllib3.PoolManager(cert_reqs='CERT_NONE')\n",
    "\n",
    "# Initiate a web request\n",
    "r = http.request('GET', link, headers={'User-Agent': 'Mozilla/5.0'})\n",
    "\n",
    "# Convert the result from raw bytes to text\n",
    "datastring = str(r.data, \"utf-8\")\n",
    "\n",
    "import re\n",
    "\n",
    "# Search for titles using regular expression.\n",
    "title = re.findall(\"class=\\\"title\\\"><h3>(.*)<\\/h3><\\/a>\", datastring)\n",
    "\n",
    "# Search for release date using regular expression.\n",
    "releaseDate = re.findall(\"<div class=\\\"clamp-details\\\">\\s+ <span>(.*)<\\/span>\", datastring)\n",
    "\n",
    "# Search for metascore using regular expression.\n",
    "score = re.findall(\"<div class=\\\"metascore_w large movie positive\\\">(.*)\"\n",
    "                   \"<\\/div>\\n\\s+<\\/a>\\n\\s+<\\/div>\\n\\s+<div class=\\\"clamp-userscore\\\">\", datastring)\n",
    "\n",
    "# Search for film summary using regular expression.\n",
    "summary = re.findall(\"<div class=\\\"summary\\\">\\n\\s+(.*)\", datastring)\n",
    "\n",
    "# Search for thumbnail photo URL using regular expression.\n",
    "image = re.findall(\"<img src=\\\"(.*)\\\" alt=\\\"(?:.*)\\\" \\/><\\/a>\", datastring)"
   ]
  },
  {
   "cell_type": "code",
   "execution_count": null,
   "metadata": {},
   "outputs": [],
   "source": [
    "#Code from the lecture to input webscraping from above into SQL table.\n",
    "cursor = conn.cursor()\n",
    "sql = \"INSERT INTO MetaCritcFilms2020 (Title, ReleaseDate, Summary, MetaScore, Thumbnail) values(?,?,?,?,?)\"\n",
    "args = \"Title\", \"ReleaseDate\", \"Sumary\", \"Metascore\", \"Thumbnail\"\n",
    "i = 0\n",
    "while i < len(title) and i < len(releaseDate) and i < len(summary) and i < len(score) and i< len(image):\n",
    "    args = title[i], releaseDate[i], summary[i], score[i], image[i]\n",
    "    cursor.execute(sql, args)\n",
    "    cursor.commit()\n",
    "    i = i + 1\n",
    "\n"
   ]
  }
 ],
 "metadata": {
  "interpreter": {
   "hash": "7ab89adc746c5f628e11cf75ea1b9faeb4649ad752f1d81f5b262cd88334a7d3"
  },
  "kernelspec": {
   "display_name": "Python 3.9.9 64-bit (windows store)",
   "language": "python",
   "name": "python3"
  },
  "language_info": {
   "codemirror_mode": {
    "name": "ipython",
    "version": 3
   },
   "file_extension": ".py",
   "mimetype": "text/x-python",
   "name": "python",
   "nbconvert_exporter": "python",
   "pygments_lexer": "ipython3",
   "version": "3.9.10"
  },
  "orig_nbformat": 4
 },
 "nbformat": 4,
 "nbformat_minor": 2
}
